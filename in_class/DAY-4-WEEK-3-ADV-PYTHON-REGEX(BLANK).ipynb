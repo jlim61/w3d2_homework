{
 "cells": [
  {
   "cell_type": "markdown",
   "metadata": {},
   "source": [
    "# Regular Expressions"
   ]
  },
  {
   "cell_type": "markdown",
   "metadata": {},
   "source": [
    "# Tasks today:\n",
    "1) <b>Importing</b> <br>\n",
    "2) <b>Using Regular Expressions</b> <br>\n",
    " &nbsp;&nbsp;&nbsp;&nbsp; a) re.compile() <br>\n",
    " &nbsp;&nbsp;&nbsp;&nbsp; b) re.match() <br>\n",
    " &nbsp;&nbsp;&nbsp;&nbsp; c) re.findall() <br>\n",
    " &nbsp;&nbsp;&nbsp;&nbsp; d) re.search() <br>\n",
    "3) <b>Sets</b> <br>\n",
    " &nbsp;&nbsp;&nbsp;&nbsp; a) Integer Ranges <br>\n",
    " &nbsp;&nbsp;&nbsp;&nbsp; b) Character Ranges <br>\n",
    "4) <b>Counting Occurences</b> <br>\n",
    " &nbsp;&nbsp;&nbsp;&nbsp; a) {x} <br>\n",
    " &nbsp;&nbsp;&nbsp;&nbsp; b) {, x} <br>\n",
    " &nbsp;&nbsp;&nbsp;&nbsp; c) {?} <br>\n",
    " &nbsp;&nbsp;&nbsp;&nbsp; d) {*} <br>\n",
    " &nbsp;&nbsp;&nbsp;&nbsp; e) {+} <br>\n",
    "5) <b>In-Class Exercise #1</b> <br>\n",
    "6) <b>Escaping Characters</b> <br>\n",
    "7) <b>Grouping</b> <br>\n",
    "8) <b>In-Class Exercise #2</b> <br>\n",
    "9) <b>Opening a File</b> <br>\n",
    " &nbsp;&nbsp;&nbsp;&nbsp; a) open() <br>\n",
    " &nbsp;&nbsp;&nbsp;&nbsp; b) with open() <br>\n",
    " &nbsp;&nbsp;&nbsp;&nbsp; c) re.match() <br>\n",
    " &nbsp;&nbsp;&nbsp;&nbsp; d) re.search() <br>\n",
    " &nbsp;&nbsp;&nbsp;&nbsp; e) Store the String in a Variable <br>\n",
    "10) <b>Regex Project</b> <br>"
   ]
  },
  {
   "cell_type": "markdown",
   "metadata": {},
   "source": [
    "### Importing <br>\n",
    "<p>Regular Expressions are universal throughout most programming languages... They are generally imported through the module 're'.</p>"
   ]
  },
  {
   "cell_type": "code",
   "execution_count": 3,
   "metadata": {},
   "outputs": [],
   "source": [
    "# import re\n",
    "import re"
   ]
  },
  {
   "cell_type": "markdown",
   "metadata": {},
   "source": [
    "### Using Regular Expressions <br>\n",
    "<p>Regular expressions give us the ability to search for patterns within text, strings, files, etc. They serve several uses, such as; security measures, searching, filtering, pattern recognition, and more...</p>"
   ]
  },
  {
   "cell_type": "markdown",
   "metadata": {},
   "source": [
    "##### re.compile()"
   ]
  },
  {
   "cell_type": "code",
   "execution_count": 4,
   "metadata": {},
   "outputs": [],
   "source": [
    "# using compile, pre determines the string to be used in regular expression methods\n",
    "\n",
    "pattern = re.compile('abcd')"
   ]
  },
  {
   "cell_type": "markdown",
   "metadata": {},
   "source": [
    "##### re.match()"
   ]
  },
  {
   "cell_type": "code",
   "execution_count": 6,
   "metadata": {},
   "outputs": [
    {
     "name": "stdout",
     "output_type": "stream",
     "text": [
      "<re.Match object; span=(0, 4), match='abcd'>\n"
     ]
    },
    {
     "data": {
      "text/plain": [
       "(0, 4)"
      ]
     },
     "execution_count": 6,
     "metadata": {},
     "output_type": "execute_result"
    }
   ],
   "source": [
    "# we are looking for what matches in the entered string\n",
    "# only starts at the beginning of the string, if it was 1abcd123, you would get no match\n",
    "check_match = pattern.match('abcd123')\n",
    "\n",
    "print(check_match)\n",
    "\n",
    "# Accessing the span of the match\n",
    "\n",
    "check_match.span()\n"
   ]
  },
  {
   "cell_type": "markdown",
   "metadata": {},
   "source": [
    "##### re.findall()"
   ]
  },
  {
   "cell_type": "code",
   "execution_count": 8,
   "metadata": {},
   "outputs": [
    {
     "name": "stdout",
     "output_type": "stream",
     "text": [
      "['abcd', 'abcd', 'abcd']\n"
     ]
    }
   ],
   "source": [
    "found_matches = pattern.findall('1234 abcd abcd 1234 1234 abcd ABCD')\n",
    "# it is case sensitive\n",
    "\n",
    "print(found_matches)"
   ]
  },
  {
   "cell_type": "markdown",
   "metadata": {},
   "source": [
    "##### re.search()"
   ]
  },
  {
   "cell_type": "code",
   "execution_count": 13,
   "metadata": {},
   "outputs": [
    {
     "name": "stdout",
     "output_type": "stream",
     "text": [
      "<re.Match object; span=(5, 9), match='abcd'>\n"
     ]
    },
    {
     "data": {
      "text/plain": [
       "'abcd'"
      ]
     },
     "execution_count": 13,
     "metadata": {},
     "output_type": "execute_result"
    }
   ],
   "source": [
    "# .search() is like .match() and .found() combined. It will look through the whole string until it finds the first match\n",
    "# so the difference between .search() and .match() is that .match has to have the matched variables at the start\n",
    "# whereas .search() that matched portion could be in any part of the string\n",
    "found_search = pattern.search('1234 abcd abcd 1234 1234 abcd ABCD')\n",
    "\n",
    "print(found_search)\n",
    "\n",
    "random_string = '1234 abcd abcd 1234 1234 abcd ABCD'\n",
    "\n",
    "span = found_search.span()\n",
    "print(span)\n",
    "\n",
    "# slicing technique\n",
    "# Slicing syntax : sequence[start:stop:step]\n",
    "# these are the same below\n",
    "print(random_string[5:9])\n",
    "random_string[span[0]:span[1]]"
   ]
  },
  {
   "cell_type": "markdown",
   "metadata": {},
   "source": [
    "### Sets <br>\n",
    "<p>The following cells will allow you to use regular expressions to search for certain values within a range such as numbers 1 through 4.</p>"
   ]
  },
  {
   "cell_type": "markdown",
   "metadata": {},
   "source": [
    "##### [a-z] or [A-Z] - any lowercase/uppercase letters from a to z<br/>[^2] - anything that's not 2"
   ]
  },
  {
   "cell_type": "markdown",
   "metadata": {},
   "source": [
    "##### Integer Ranges"
   ]
  },
  {
   "cell_type": "code",
   "execution_count": 19,
   "metadata": {},
   "outputs": [
    {
     "name": "stdout",
     "output_type": "stream",
     "text": [
      "<re.Match object; span=(0, 3), match='783'>\n",
      "<re.Match object; span=(13, 16), match='783'>\n"
     ]
    },
    {
     "data": {
      "text/plain": [
       "['783', '070', '773']"
      ]
     },
     "execution_count": 19,
     "metadata": {},
     "output_type": "execute_result"
    }
   ],
   "source": [
    "# our first character can be anything from 0 up to 7 (THIS IS INCLUSIVE)\n",
    "# our second character can be anything from 7 up to 9 (THIS IS INCLUSIVE)\n",
    "# our third character can be anything from 0 up to 3 (THIS IS INCLUSIVE)\n",
    "pattern_int = re.compile('[0-7][7-9][0-3]')\n",
    "\n",
    "number_string = '783 070 884 773'\n",
    "\n",
    "number_match = pattern_int.match(number_string)\n",
    "# what code is doing\n",
    "# does 7 fall in range of 0-7, yes. does 8 run in range from 7-9, yes. does 3 fall in range from 0-3, yes.\n",
    "# store 783 as a match\n",
    "\n",
    "print(number_match)\n",
    "\n",
    "print(pattern_int.search('960 883 784 8783'))\n",
    "\n",
    "pattern_int.findall(number_string)\n",
    "# note that characters in a match can only be used once\n",
    "# 783 07083 884 773 would return ['783', '070', '773'] and not ['783', '070', '083', '773'] because that 0 was already\n",
    "# used in a match"
   ]
  },
  {
   "cell_type": "markdown",
   "metadata": {},
   "source": [
    "##### Character Ranges"
   ]
  },
  {
   "cell_type": "code",
   "execution_count": 22,
   "metadata": {},
   "outputs": [
    {
     "data": {
      "text/plain": [
       "['He', 'Th', 'Mr', 'An']"
      ]
     },
     "execution_count": 22,
     "metadata": {},
     "output_type": "execute_result"
    }
   ],
   "source": [
    "char_pattern = re.compile(\"[A-Z][a-z]\")\n",
    "\n",
    "matrix_string = 'Hello There Mr. Anderson'\n",
    "\n",
    "char_pattern.findall(matrix_string)"
   ]
  },
  {
   "cell_type": "markdown",
   "metadata": {},
   "source": [
    "### Counting Occurences"
   ]
  },
  {
   "cell_type": "markdown",
   "metadata": {},
   "source": [
    "##### {x} - something that occurs {num_of_times}"
   ]
  },
  {
   "cell_type": "code",
   "execution_count": 220,
   "metadata": {},
   "outputs": [
    {
     "name": "stdout",
     "output_type": "stream",
     "text": [
      "['He1', 'An33']\n"
     ]
    }
   ],
   "source": [
    "# {x} says that this pattern needs to occur, this many times\n",
    "# first character can be any capital letter, second character can be any lowercase letter, third character can be 0-3\n",
    "# {2} says that the third character (number between 0-3) must occur 2 times to be considered in the pattern\n",
    "# if you did [A-Z]{2}[a-z][0-3]{2}, then it would be saying you need 2 capital letters, a lowercase letter\n",
    "# and then 2 numbers between 0-3. The curly braces affects what it's in front of\n",
    "char_pattern_count = re.compile('[A-Z][a-z][0-3]{2}')\n",
    "found_count = char_pattern_count.findall('He1lo Mr. An33derson')\n",
    "print(found_count)"
   ]
  },
  {
   "cell_type": "markdown",
   "metadata": {},
   "source": [
    "##### {x, x} - something that occurs between x and x times"
   ]
  },
  {
   "cell_type": "code",
   "execution_count": 26,
   "metadata": {},
   "outputs": [
    {
     "data": {
      "text/plain": [
       "['m', 'm', 'm', 'mmm', 'mmmmm']"
      ]
     },
     "execution_count": 26,
     "metadata": {},
     "output_type": "execute_result"
    }
   ],
   "source": [
    "# this says you are looking for something that occurs between x and x times\n",
    "# for pattern below, it says looking for an \"m\" that occurs between 1 and 5 times.\n",
    "ms_pattern = re.compile('m{1,5}')\n",
    "\n",
    "mmms = 'This is an example of a regular ex trying to find one m, more than one mmm or five mmmmms'\n",
    "\n",
    "ms_pattern.findall(mmms)\n",
    "\n",
    "# if it was 6 \"m\"s, it would return the 5 \"m\"s, finish that character and then run the single \"m\" as it's own\n",
    "# it would return: ['m', 'm', 'm', 'mmm', 'mmmmm', 'm']"
   ]
  },
  {
   "cell_type": "markdown",
   "metadata": {},
   "source": [
    "##### ? - something that occurs 0 or 1 time"
   ]
  },
  {
   "cell_type": "code",
   "execution_count": 30,
   "metadata": {},
   "outputs": [
    {
     "data": {
      "text/plain": [
       "['Mr', 'Mrs']"
      ]
     },
     "execution_count": 30,
     "metadata": {},
     "output_type": "execute_result"
    }
   ],
   "source": [
    "# the 0 can be confusing because how can something occur 0 times\n",
    "# this portion of pattern, it we don't find it, it will still be a match, it is optional\n",
    "\n",
    "matrix_string_2 = 'Hello there Mr.Anderson How is Mrss.Anderson and Mss Anderson?'\n",
    "\n",
    "# again the ? affects what it's front of, so it needs M and r, but s is optional\n",
    "optional_pattern = re.compile('Mrs?')\n",
    "\n",
    "optional_pattern.findall(matrix_string_2)"
   ]
  },
  {
   "cell_type": "markdown",
   "metadata": {},
   "source": [
    "##### * - something that occurs at least 0 times"
   ]
  },
  {
   "cell_type": "code",
   "execution_count": 31,
   "metadata": {},
   "outputs": [
    {
     "data": {
      "text/plain": [
       "['Mr', 'Mrss']"
      ]
     },
     "execution_count": 31,
     "metadata": {},
     "output_type": "execute_result"
    }
   ],
   "source": [
    "# this is considered \"sticky\" because:\n",
    "# can occur 0 times and be a match or can occur 10 times and still be a match, optional\n",
    "\n",
    "wildcard_pattern = re.compile('Mrs*')\n",
    "\n",
    "wildcard_pattern.findall(matrix_string_2)"
   ]
  },
  {
   "cell_type": "markdown",
   "metadata": {},
   "source": [
    "##### + - something that occurs at least once"
   ]
  },
  {
   "cell_type": "code",
   "execution_count": 33,
   "metadata": {},
   "outputs": [
    {
     "data": {
      "text/plain": [
       "['Ms', 'MMMMMMs']"
      ]
     },
     "execution_count": 33,
     "metadata": {},
     "output_type": "execute_result"
    }
   ],
   "source": [
    "# this is considered \"sticky\" because:\n",
    "# can occur 1 time and be a match or can occur 10 times and still be a match, NOT OPTIONAL, must occur once\n",
    "\n",
    "required_pattern = re.compile('M+s')\n",
    "\n",
    "required_pattern.findall('My name is Ms.Smith. This is MMMMMMsssssssssssssss')\n",
    "\n"
   ]
  },
  {
   "cell_type": "markdown",
   "metadata": {},
   "source": [
    "##### In-class exercise 1: \n",
    "\n",
    "Use a regular expression to find every number in the given string"
   ]
  },
  {
   "cell_type": "code",
   "execution_count": 39,
   "metadata": {},
   "outputs": [
    {
     "data": {
      "text/plain": [
       "['10909090', '1', '2']"
      ]
     },
     "execution_count": 39,
     "metadata": {},
     "output_type": "execute_result"
    }
   ],
   "source": [
    "my_string = \"This string has 10909090 numbers, but it is only 1 string. I hope you solve this 2day.\"\n",
    "\n",
    "# Output: ['10909090','1',2]\n",
    "\n",
    "onlynum_pattern = re.compile('[0-9]+')\n",
    "\n",
    "onlynum_pattern.findall(my_string)"
   ]
  },
  {
   "cell_type": "markdown",
   "metadata": {},
   "source": [
    "### Escaping Characters"
   ]
  },
  {
   "cell_type": "markdown",
   "metadata": {},
   "source": [
    "##### \\w - look for any Unicode character<br/>\\W - look for anything that isnt a Unicode character\n",
    "\n",
    "[History on Unicode](http://unicode.org/standard/WhatIsUnicode.html)\n",
    "\n",
    "[More on Unicode Characters](https://en.wikipedia.org/wiki/List_of_Unicode_characters)"
   ]
  },
  {
   "cell_type": "code",
   "execution_count": 222,
   "metadata": {},
   "outputs": [
    {
     "name": "stdout",
     "output_type": "stream",
     "text": [
      "['This', 'is', 'a', 'sentence', 'With', 'an', 'exclamation', 'm4rk', '130']\n",
      "[' ', ' ', ' ', '.', ' ', ' ', ' ', ' ', ' ', ',', ' ', ' ', '!', ' ']\n"
     ]
    }
   ],
   "source": [
    "string_with_punc = 'This is a sentence.    With an, exclamation m4rk! 130'\n",
    "\n",
    "unicode_characters = re.compile('\\w+')\n",
    "\n",
    "# this takes anything that is a letter (A-Z and a-z), to group them together, use a +. It can also grab numbers\n",
    "print(unicode_characters.findall(string_with_punc))\n",
    "\n",
    "# this takes anything that isn't a letter (spaces, exclamations, etc.), to group them together, use a +\n",
    "print(re.compile('\\W').findall(string_with_punc))"
   ]
  },
  {
   "cell_type": "markdown",
   "metadata": {},
   "source": [
    "##### \\d - look for any digit 0-9<br/>\\D - look for anything that isnt a digit"
   ]
  },
  {
   "cell_type": "code",
   "execution_count": 49,
   "metadata": {},
   "outputs": [
    {
     "name": "stdout",
     "output_type": "stream",
     "text": [
      "['5', '2', '0', '0', '2', '6', '3', '1', '2']\n",
      "['5th', '26th', '3rd', '1st', '2nd']\n"
     ]
    },
    {
     "data": {
      "text/plain": [
       "['Today is the ', 'th, in ', ' days it will be the ', 'th. ', 'rd, ', 'st ']"
      ]
     },
     "execution_count": 49,
     "metadata": {},
     "output_type": "execute_result"
    }
   ],
   "source": [
    "string_with_days = 'Today is the 5th, in 200 days it will be the 26th. 3rd, 1st 2nd'\n",
    "\n",
    "all_digit_pattern = re.compile('\\d')\n",
    "\n",
    "# this takes anything that is a digit (0-9), to group them together, use a +\n",
    "print(all_digit_pattern.findall(string_with_days))\n",
    "\n",
    "# a day with number like 5th or 26th, can only have up to 2 characters so we are using {1,2} to say that it can appear\n",
    "# either 1 or 2 times to be considered for pattern. then we are looking for anything between d and t for 2nd, 1st, etc.\n",
    "# and this must happen at least 2 times because that is the format of subscripts for numbers\n",
    "days_pattern = re.compile('\\d{1,2}[d-t]{2}')\n",
    "\n",
    "print(days_pattern.findall(string_with_days))\n",
    "\n",
    "# this takes anything that is NOT a digit (0-9), to group them together, use a +\n",
    "non_digit_pattern = re.compile('\\D+ ')\n",
    "\n",
    "non_digit_pattern.findall(string_with_days)\n",
    "\n"
   ]
  },
  {
   "cell_type": "markdown",
   "metadata": {},
   "source": [
    "##### \\s - look for any white space<br/>\\S - look for anything that isnt whitespace"
   ]
  },
  {
   "cell_type": "code",
   "execution_count": 225,
   "metadata": {},
   "outputs": [
    {
     "name": "stdout",
     "output_type": "stream",
     "text": [
      "[' ', ' ', ' ', ' ', '                   ']\n"
     ]
    },
    {
     "data": {
      "text/plain": [
       "['Are', 'you', 'afraid', 'of', 'the', 'd4rk?']"
      ]
     },
     "execution_count": 225,
     "metadata": {},
     "output_type": "execute_result"
    }
   ],
   "source": [
    "spooky = 'Are you afraid of the                   d4rk?'\n",
    "\n",
    "white_space_pattern = re.compile('\\s+')\n",
    "# grabs only spaces and groups them, can use '\\s+ ' (has a space after +) to make it all one\n",
    "print(white_space_pattern.findall(spooky))\n",
    "\n",
    "non_white_space_pattern = re.compile('\\S+')\n",
    "\n",
    "# grabs everything that's not a space. this includes punctuations unlike small w.\n",
    "non_white_space_pattern.findall(spooky)"
   ]
  },
  {
   "cell_type": "markdown",
   "metadata": {},
   "source": [
    "##### \\b - look for boundaries or edges of a word<br/>\\B - look for anything that isnt a boundary"
   ]
  },
  {
   "cell_type": "code",
   "execution_count": 65,
   "metadata": {},
   "outputs": [
    {
     "name": "stdout",
     "output_type": "stream",
     "text": [
      "['Coding Temple']\n",
      "['Coding Temple']\n",
      "['Coding Temple']\n",
      "[]\n",
      "[]\n",
      "Starting non-boundary examples\n",
      "['Coding Temple']\n",
      "[]\n",
      "[]\n",
      "Starting mix-boundary examples\n",
      "['Coding Temple']\n",
      "['Coding Temple']\n",
      "['Coding Temple']\n",
      "[]\n"
     ]
    }
   ],
   "source": [
    "# must specify boundaries, both edges by putting \\b on both ends\n",
    "# the r is raw string. has to be used for boundaries.\n",
    "# the boundary is not part of the pattern. says only give me this match if it is surrounded by boundaries\n",
    "boundary_pattern = re.compile(r'\\bCoding Temple\\b')\n",
    "\n",
    "# if we did 'Welcome to FakeCoding Temple!' it would not work because there is something on the boundary\n",
    "\n",
    "# edge of string is a boundary\n",
    "print(boundary_pattern.findall('Welcome to Coding Temple'))\n",
    "# punctuation counts as a boundary\n",
    "print(boundary_pattern.findall('Welcome to Coding Temple!'))\n",
    "# white space counts as a boundary\n",
    "print(boundary_pattern.findall('Welcome to Coding Temple '))\n",
    "# the extra letters cause it not to run\n",
    "print(boundary_pattern.findall('Welcome to FakeCoding Temple'))\n",
    "# the numbers cause it not to run\n",
    "print(boundary_pattern.findall('Welcome to Coding Temple2'))\n",
    "\n",
    "print('Starting non-boundary examples')\n",
    "non_boundary_pattern = re.compile(r'\\BCoding Temple\\B')\n",
    "print(non_boundary_pattern.findall('Welcome to FakeCoding Temple2'))\n",
    "print(non_boundary_pattern.findall('Welcome to FakeCoding Temple'))\n",
    "print(non_boundary_pattern.findall('Welcome to Coding Temple2'))\n",
    "\n",
    "print('Starting mix-boundary examples')\n",
    "mix_boundary_pattern = re.compile(r'\\BCoding Temple\\b')\n",
    "print(mix_boundary_pattern.findall('FakeCoding Temple'))\n",
    "print(mix_boundary_pattern.findall('FakeCoding Temple!'))\n",
    "print(mix_boundary_pattern.findall('FakeCoding Temple '))\n",
    "print(mix_boundary_pattern.findall(' Coding Temple '))"
   ]
  },
  {
   "cell_type": "markdown",
   "metadata": {},
   "source": [
    "### Grouping"
   ]
  },
  {
   "cell_type": "code",
   "execution_count": 79,
   "metadata": {},
   "outputs": [
    {
     "name": "stdout",
     "output_type": "stream",
     "text": [
      "[('Max', 'Smith'), ('Sam', 'Darnold'), ('LeBron', 'James'), ('Michael', 'Jordan'), ('Patrick', 'McCormick')]\n",
      "['Max Smith', 'aaron rodgers', 'Sam Darnold', 'LeBron James', 'Michael Jordan', 'Patrick McCormick']\n",
      "Max Smith\n",
      "Max Smith\n",
      "No match, good to see aaron rodgers leave the division\n",
      "Sam Darnold\n",
      "Sam Darnold\n",
      "LeBron James\n",
      "LeBron James\n",
      "Michael Jordan\n",
      "Michael Jordan\n",
      "Patrick McCormick\n",
      "Patrick McCormick\n"
     ]
    }
   ],
   "source": [
    "sports_names = 'Max Smith, aaron rodgers, Sam Darnold, LeBron James, Michael Jordan, Patrick McCormick'\n",
    "\n",
    "# wrap in parentheses to specify that it's a group\n",
    "# [A-z] covers all capital and lowercase, just like [a-zA-Z]\n",
    "group_pattern = re.compile('([A-Z][A-z]+) ([A-Z][a-z][A-Z]?[a-z]+)')\n",
    "\n",
    "print(group_pattern.findall(sports_names))\n",
    "\n",
    "print(sports_names.split(', '))\n",
    "# split doesn't affect string, it's a string method. it is returning a list. it returns a list where we\n",
    "# separate our string based on what we passed in as an argument\n",
    "# this is a common way to split up a string into words\n",
    "\n",
    "# if you get match, it's truthee, if you get none, it's falsey\n",
    "for name in sports_names.split(', '):\n",
    "    result = group_pattern.match(name)\n",
    "    if result:\n",
    "#         the .group() takes the element out of the tuple\n",
    "        print(result.group())\n",
    "#     same thing as line above\n",
    "        print(f'{result.group(1)} {result.group(2)}')\n",
    "    else:\n",
    "        print(\"No match, good to see aaron rodgers leave the division\")"
   ]
  },
  {
   "cell_type": "markdown",
   "metadata": {},
   "source": [
    "##### In-class Exercise 2:\n",
    "\n",
    "Write a function using regular expressions to find the domain name in the given email addresses (and return None for the invalid email addresses)<br><b>HINT: Use '|' for either or</b>"
   ]
  },
  {
   "cell_type": "code",
   "execution_count": 155,
   "metadata": {},
   "outputs": [
    {
     "name": "stdout",
     "output_type": "stream",
     "text": [
      "None\n",
      "pocohontas1776@gmail.com\n",
      "None\n",
      "yourfavoriteband@g6.org\n",
      "None\n"
     ]
    }
   ],
   "source": [
    "my_emails = [\"jordanw@codingtemple.orgcom\", \"pocohontas1776@gmail.com\", \"helloworld@aol..com\",\n",
    "             \"yourfavoriteband@g6.org\", \"@codingtemple.com\"]\n",
    "\n",
    "# You can also use the $ at the end of your compile expression -- this stops the search\n",
    "\n",
    "#.com OR .org => com|org\n",
    "\n",
    "#Expected output:\n",
    "#None\n",
    "#pocohontas1776@gmail.com\n",
    "#None\n",
    "#yourfavoriteband@g6.org\n",
    "#None\n",
    "\n",
    "# [letters][numbers - optional][@ sign][letters][numbers - optional](.com/.org)$\n",
    "# [] says any characters - says c is valid and then stops, () = group\n",
    "# use [] for a SET of characters. had '@' and '.' in a bracket but they are just one character so you can leave\n",
    "# them out of brackets like below\n",
    "email_pattern = re.compile(\"[A-z]+[0-9]*@{1}[a-z]+[0-9]*.{1}(com|org)$\")\n",
    "\n",
    "# print(email_pattern.findall(\"yourfavoriteband@g6.org\"))\n",
    "# email_pattern.findall(\"pocohontas1776@gmail.com\")\n",
    "# email_pattern.findall(\"jordanw@codingtemple.orgcom\")\n",
    "\n",
    "\n",
    "for email in my_emails:\n",
    "    result = email_pattern.match(email)\n",
    "    if result:\n",
    "        print(result.group())\n",
    "    else:\n",
    "        print('None')\n"
   ]
  },
  {
   "cell_type": "markdown",
   "metadata": {},
   "source": [
    "### Opening a File <br>\n",
    "<p>Python gives us a couple ways to import files, below are the two used most often.</p>"
   ]
  },
  {
   "cell_type": "markdown",
   "metadata": {},
   "source": [
    "##### open()"
   ]
  },
  {
   "cell_type": "code",
   "execution_count": 186,
   "metadata": {},
   "outputs": [
    {
     "name": "stdout",
     "output_type": "stream",
     "text": [
      "Hawkins, Derek\tderek@codingtemple.com\t(555) 555-5555\tTeacher, Coding Temple\t@derekhawkins\n",
      "Zhai, Mo\tmozhai@codingtemple.com\t(555) 555-5554\tTeacher, Coding Temple\n",
      "Johnson, Joe\tjoejohnson@codingtemple.com\t\tJohson, Joe\n",
      "Osterberg, Sven-Erik\tgovernor@norrbotten.co.se\t\tGovernor, Norrbotten\t@sverik\n",
      ", Tim\ttim@killerrabbit.com\t\tEnchanter, Killer Rabbit Cave\n",
      "Butz, Ryan\tryanb@codingtemple.com\t(555) 555-5543\tCEO, Coding Temple\t@ryanbutz\n",
      "Doctor, The\tdoctor+companion@tardis.co.uk\t\tTime Lord, Gallifrey\n",
      "Exampleson, Example\tme@example.com\t555-555-5552\tExample, Example Co.\t@example\n",
      "Pael, Ripal\tripalp@codingtemple.com\t(555) 555-5553\tTeacher, Coding Temple\t@ripalp\n",
      "Vader, Darth\tdarth-vader@empire.gov\t(555) 555-4444\tSith Lord, Galactic Empire\t@darthvader\n",
      "Fernandez de la Vega Sanz, Maria Teresa\tmtfvs@spain.gov\t\tFirst Deputy Prime Minister, Spanish Gov\n",
      "\n"
     ]
    }
   ],
   "source": [
    "f2 = open('./names.txt')\n",
    "\n",
    "data = f2.read()\n",
    "print(data)\n",
    "\n",
    "f.close()"
   ]
  },
  {
   "cell_type": "markdown",
   "metadata": {},
   "source": [
    "##### with open()"
   ]
  },
  {
   "cell_type": "code",
   "execution_count": 184,
   "metadata": {},
   "outputs": [
    {
     "name": "stdout",
     "output_type": "stream",
     "text": [
      "['Hawkins, Derek\\tderek@codingtemple.com\\t(555) 555-5555\\tTeacher, Coding Temple\\t@derekhawkins\\n', 'Zhai, Mo\\tmozhai@codingtemple.com\\t(555) 555-5554\\tTeacher, Coding Temple\\n', 'Johnson, Joe\\tjoejohnson@codingtemple.com\\t\\tJohson, Joe\\n', 'Osterberg, Sven-Erik\\tgovernor@norrbotten.co.se\\t\\tGovernor, Norrbotten\\t@sverik\\n', ', Tim\\ttim@killerrabbit.com\\t\\tEnchanter, Killer Rabbit Cave\\n', 'Butz, Ryan\\tryanb@codingtemple.com\\t(555) 555-5543\\tCEO, Coding Temple\\t@ryanbutz\\n', 'Doctor, The\\tdoctor+companion@tardis.co.uk\\t\\tTime Lord, Gallifrey\\n', 'Exampleson, Example\\tme@example.com\\t555-555-5552\\tExample, Example Co.\\t@example\\n', 'Pael, Ripal\\tripalp@codingtemple.com\\t(555) 555-5553\\tTeacher, Coding Temple\\t@ripalp\\n', 'Vader, Darth\\tdarth-vader@empire.gov\\t(555) 555-4444\\tSith Lord, Galactic Empire\\t@darthvader\\n', 'Fernandez de la Vega Sanz, Maria Teresa\\tmtfvs@spain.gov\\t\\tFirst Deputy Prime Minister, Spanish Gov\\n']\n"
     ]
    }
   ],
   "source": [
    "# difference with this and cell above is that it automatically closes, but the top would have you manually close it\n",
    "with open('./names.txt') as f:\n",
    "    data = f.readlines()\n",
    "    print(data)"
   ]
  },
  {
   "cell_type": "markdown",
   "metadata": {},
   "source": [
    "##### re.match()"
   ]
  },
  {
   "cell_type": "code",
   "execution_count": 193,
   "metadata": {},
   "outputs": [
    {
     "data": {
      "text/plain": [
       "<re.Match object; span=(0, 14), match='Hawkins, Derek'>"
      ]
     },
     "execution_count": 193,
     "metadata": {},
     "output_type": "execute_result"
    }
   ],
   "source": [
    "# first argument is pattern, second is string or text\n",
    "# we are looking for Hawkins, Derek and we are looking IN data\n",
    "re.match('Hawkins, Derek', data)"
   ]
  },
  {
   "cell_type": "markdown",
   "metadata": {},
   "source": [
    "##### re.search()"
   ]
  },
  {
   "cell_type": "code",
   "execution_count": 164,
   "metadata": {},
   "outputs": [
    {
     "name": "stdout",
     "output_type": "stream",
     "text": [
      "<re.Match object; span=(652, 664), match='Vader, Darth'>\n",
      "<re.Match object; span=(652, 664), match='Vader, Darth'>\n"
     ]
    }
   ],
   "source": [
    "print(re.search('Vader, Darth', data))\n",
    "\n",
    "# above is same as\n",
    "print(re.compile('Vader, Darth').search(data))"
   ]
  },
  {
   "cell_type": "markdown",
   "metadata": {},
   "source": [
    "##### Store the String to a Variable"
   ]
  },
  {
   "cell_type": "code",
   "execution_count": 187,
   "metadata": {},
   "outputs": [
    {
     "name": "stdout",
     "output_type": "stream",
     "text": [
      "Who would you like to search for?: Obi Wan\n",
      "['Obi', 'Wan']\n",
      "Wan, Obi\n"
     ]
    }
   ],
   "source": [
    "user_search = input('Who would you like to search for?: ')\n",
    "\n",
    "user_name_list = user_search.split(' ')\n",
    "print(user_name_list)\n",
    "\n",
    "reformat_user_search = f'{user_name_list[-1]}, {user_name_list[0]}'\n",
    "print(reformat_user_search)\n",
    "\n",
    "re.search(reformat_user_search, data)"
   ]
  },
  {
   "cell_type": "markdown",
   "metadata": {},
   "source": [
    "### In-Class Exercise #3 <br>\n",
    "<p>Print each persons name and twitter handle, using groups, should look like:</p>\n",
    "<p>==============<br>\n",
    "   Full Name / Twitter<br>\n",
    "   ==============</p>\n",
    "Derek Hawkins / @derekhawkins\n",
    "\n",
    " Erik Sven-Osterberg / @sverik\n",
    "\n",
    " Ryan Butz / @ryanbutz\n",
    "\n",
    " Example Exampleson / @example\n",
    "\n",
    " Ripal Pael / @ripalp\n",
    "\n",
    " Darth Vader / @darthvader"
   ]
  },
  {
   "cell_type": "code",
   "execution_count": 208,
   "metadata": {},
   "outputs": [
    {
     "name": "stdout",
     "output_type": "stream",
     "text": [
      "['Hawkins, Derek\\tderek@codingtemple.com\\t(555) 555-5555\\tTeacher, Coding Temple\\t@derekhawkins\\n', 'Zhai, Mo\\tmozhai@codingtemple.com\\t(555) 555-5554\\tTeacher, Coding Temple\\n', 'Johnson, Joe\\tjoejohnson@codingtemple.com\\t\\tJohson, Joe\\n', 'Osterberg, Sven-Erik\\tgovernor@norrbotten.co.se\\t\\tGovernor, Norrbotten\\t@sverik\\n', ', Tim\\ttim@killerrabbit.com\\t\\tEnchanter, Killer Rabbit Cave\\n', 'Butz, Ryan\\tryanb@codingtemple.com\\t(555) 555-5543\\tCEO, Coding Temple\\t@ryanbutz\\n', 'Doctor, The\\tdoctor+companion@tardis.co.uk\\t\\tTime Lord, Gallifrey\\n', 'Exampleson, Example\\tme@example.com\\t555-555-5552\\tExample, Example Co.\\t@example\\n', 'Pael, Ripal\\tripalp@codingtemple.com\\t(555) 555-5553\\tTeacher, Coding Temple\\t@ripalp\\n', 'Vader, Darth\\tdarth-vader@empire.gov\\t(555) 555-4444\\tSith Lord, Galactic Empire\\t@darthvader\\n', 'Fernandez de la Vega Sanz, Maria Teresa\\tmtfvs@spain.gov\\t\\tFirst Deputy Prime Minister, Spanish Gov\\n']\n",
      "Hawkins, Derek\tderek@codingtemple.com\t(555) 555-5555\tTeacher, Coding Temple\t@derekhawkins\n",
      "\n",
      "Zhai, Mo\tmozhai@codingtemple.com\t(555) 555-5554\tTeacher, Coding Temple\n",
      "\n",
      "Johnson, Joe\tjoejohnson@codingtemple.com\t\tJohson, Joe\n",
      "\n",
      "Osterberg, Sven-Erik\tgovernor@norrbotten.co.se\t\tGovernor, Norrbotten\t@sverik\n",
      "\n",
      ", Tim\ttim@killerrabbit.com\t\tEnchanter, Killer Rabbit Cave\n",
      "\n",
      "Butz, Ryan\tryanb@codingtemple.com\t(555) 555-5543\tCEO, Coding Temple\t@ryanbutz\n",
      "\n",
      "Doctor, The\tdoctor+companion@tardis.co.uk\t\tTime Lord, Gallifrey\n",
      "\n",
      "Exampleson, Example\tme@example.com\t555-555-5552\tExample, Example Co.\t@example\n",
      "\n",
      "Pael, Ripal\tripalp@codingtemple.com\t(555) 555-5553\tTeacher, Coding Temple\t@ripalp\n",
      "\n",
      "Vader, Darth\tdarth-vader@empire.gov\t(555) 555-4444\tSith Lord, Galactic Empire\t@darthvader\n",
      "\n",
      "Fernandez de la Vega Sanz, Maria Teresa\tmtfvs@spain.gov\t\tFirst Deputy Prime Minister, Spanish Gov\n",
      "\n"
     ]
    }
   ],
   "source": [
    "with open('./names.txt') as f:\n",
    "    data = f.readlines()\n",
    "    print(data)\n",
    "    \n",
    "# make user friendly\n",
    "for line in data:\n",
    "    print(line)"
   ]
  },
  {
   "cell_type": "code",
   "execution_count": 219,
   "metadata": {
    "scrolled": true
   },
   "outputs": [
    {
     "name": "stdout",
     "output_type": "stream",
     "text": [
      "Hawkins\n",
      "Derek\n",
      "@derekhawkins\n",
      "Derek Hawkins / @derekhawkins\n",
      "Sven-Erik Osterberg / @sverik\n",
      "Ryan Butz / @ryanbutz\n",
      "Example Exampleson / @example\n",
      "Ripal Pael / @ripalp\n",
      "Darth Vader / @darthvader\n",
      "<re.Match object; span=(0, 13), match='@derekhawkins'>\n",
      "None\n",
      "None\n",
      "<re.Match object; span=(0, 7), match='@sverik'>\n",
      "None\n",
      "<re.Match object; span=(0, 9), match='@ryanbutz'>\n",
      "None\n",
      "<re.Match object; span=(0, 8), match='@example'>\n",
      "<re.Match object; span=(0, 7), match='@ripalp'>\n",
      "<re.Match object; span=(0, 11), match='@darthvader'>\n",
      "None\n"
     ]
    }
   ],
   "source": [
    "# first name = [A-Z][a-z]+\n",
    "# last name = [A-Z][a-z]+\n",
    "# twitter handle = @[a-z]+\n",
    "# . says any character and .+ is making it sticky\n",
    "# syntax = first name, the comma, the spaces, last name, any characters between the twitter handle, and twitter handle\n",
    "# syntax = ([A-Z][a-z]+)    ,        \\s   ([A-Z][a-z]+)            .+     \\s                               @[a-z]+\n",
    "ice_pattern = re.compile('([A-Z][a-z]+),\\s([A-Z][a-z]+-?[A-z]*).+\\s(@[A-z]+)$')\n",
    "\n",
    "print(ice_pattern.match(data[0]).group(1))\n",
    "print(ice_pattern.match(data[0]).group(2))\n",
    "print(ice_pattern.match(data[0]).group(3))\n",
    "\n",
    "for line in data:\n",
    "    result = ice_pattern.match(line)\n",
    "    if result:\n",
    "        print(f'{result.group(2)} {result.group(1)} / {result.group(3)}')\n",
    "        \n",
    "# x_pattern = re.compile('@[A-z]+$')\n",
    "\n",
    "# for line in data:\n",
    "#     print(x_pattern.match(line.split()[-1]))"
   ]
  },
  {
   "cell_type": "markdown",
   "metadata": {},
   "source": [
    "### Regex project\n",
    "\n",
    "Use python to read the file regex_test.txt and print the last name on each line using regular expressions and groups (return None for names with no first and last name, or names that aren't properly capitalized)\n",
    "##### Hint: use with open() and readlines()"
   ]
  },
  {
   "cell_type": "code",
   "execution_count": null,
   "metadata": {},
   "outputs": [],
   "source": [
    "\"\"\"\n",
    "Expected Output\n",
    "Abraham Lincoln\n",
    "Andrew P Garfield\n",
    "Connor Milliken\n",
    "Jordan Alexander Williams\n",
    "None\n",
    "None\n",
    "\"\"\""
   ]
  },
  {
   "cell_type": "code",
   "execution_count": null,
   "metadata": {},
   "outputs": [],
   "source": []
  }
 ],
 "metadata": {
  "kernelspec": {
   "display_name": "Python 3 (ipykernel)",
   "language": "python",
   "name": "python3"
  },
  "language_info": {
   "codemirror_mode": {
    "name": "ipython",
    "version": 3
   },
   "file_extension": ".py",
   "mimetype": "text/x-python",
   "name": "python",
   "nbconvert_exporter": "python",
   "pygments_lexer": "ipython3",
   "version": "3.11.3"
  }
 },
 "nbformat": 4,
 "nbformat_minor": 2
}
